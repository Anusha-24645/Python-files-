{
  "nbformat": 4,
  "nbformat_minor": 0,
  "metadata": {
    "colab": {
      "provenance": [],
      "authorship_tag": "ABX9TyOxJn4iwSlmS0vZVy5Qw0QX",
      "include_colab_link": true
    },
    "kernelspec": {
      "name": "python3",
      "display_name": "Python 3"
    },
    "language_info": {
      "name": "python"
    }
  },
  "cells": [
    {
      "cell_type": "markdown",
      "metadata": {
        "id": "view-in-github",
        "colab_type": "text"
      },
      "source": [
        "<a href=\"https://colab.research.google.com/github/Anusha-24645/Python-files-/blob/main/Task_4a%2C4b%2C4c%2C4d.ipynb\" target=\"_parent\"><img src=\"https://colab.research.google.com/assets/colab-badge.svg\" alt=\"Open In Colab\"/></a>"
      ]
    },
    {
      "cell_type": "code",
      "execution_count": 1,
      "metadata": {
        "colab": {
          "base_uri": "https://localhost:8080/"
        },
        "id": "g5616X07I4jG",
        "outputId": "12483738-375d-439e-cf37-61d929cdc884"
      },
      "outputs": [
        {
          "output_type": "stream",
          "name": "stdout",
          "text": [
            "[12]\n",
            "[12, 4]\n",
            "[12, 4, 2]\n",
            "[12, 4, 2, 4]\n",
            "[12, 2, 4]\n",
            "[12, 2, 4, 21]\n",
            "[2, 4, 12, 21]\n",
            "[2, 4, 12]\n",
            "[12, 4, 2]\n",
            "[0, 1, 2, 3, 4, 5, 6, 7, 8, 9]\n",
            "Enter number of students: 2\n",
            "Enter name: anu\n",
            "Enter score: 99\n",
            "Enter name: deepu\n",
            "Enter score: 98\n",
            "anu\n",
            "Enter number of elements: 4\n",
            "Enter space-separated integers: 56\n",
            "2033482236437298216\n",
            "Enter the total number of test cases: 4\n",
            "Enter balloon colors (a or b): b\n",
            "0\n",
            "Enter balloon colors (a or b): a\n",
            "0\n",
            "Enter balloon colors (a or b): blue\n",
            "0\n",
            "Enter balloon colors (a or b): green\n",
            "0\n"
          ]
        }
      ],
      "source": [
        "sample = []\n",
        "\n",
        "sample.insert(0, 12)\n",
        "print(sample)\n",
        "\n",
        "sample.insert(1, 4)\n",
        "print(sample)\n",
        "\n",
        "sample.insert(2, 2)\n",
        "print(sample)\n",
        "\n",
        "sample.insert(3, 4)\n",
        "print(sample)\n",
        "\n",
        "sample.remove(4)  # Removes the first occurrence of 4\n",
        "print(sample)\n",
        "\n",
        "sample.append(21)\n",
        "print(sample)\n",
        "\n",
        "sample.sort()\n",
        "print(sample)\n",
        "\n",
        "sample.pop()  # Removes the last item\n",
        "print(sample)\n",
        "\n",
        "sample.reverse()\n",
        "print(sample)\n",
        "\n",
        "a = list(range(10))\n",
        "print(a)\n",
        "\n",
        "\"\\n\"\n",
        "\"\\n\"\n",
        "alist = []\n",
        "\n",
        "for _ in range(int(input(\"Enter number of students: \"))):\n",
        "    name = input(\"Enter name: \")\n",
        "    score = float(input(\"Enter score: \"))\n",
        "    alist.append([name, score])\n",
        "\n",
        "# Get second lowest score\n",
        "second_highest = sorted(set([score for name, score in alist]))[1]\n",
        "\n",
        "# Get names with the second lowest score, sort them alphabetically, and print\n",
        "print('\\n'.join(sorted([name for name, score in alist if score == second_highest])))\n",
        "\n",
        "\"\\n\"\n",
        "\"\\n\"\n",
        "n = int(input(\"Enter number of elements: \"))\n",
        "a = map(int, input(\"Enter space-separated integers: \").split())\n",
        "t = tuple(a)\n",
        "print(hash(t))\n",
        "\n",
        "\"\\n\"\n",
        "\"\\n\"\n",
        "def min_paint_balloons(s):\n",
        "    # Count the number of amber and brass balloons\n",
        "    amber_count = s.count('a')\n",
        "    brass_count = s.count('b')\n",
        "    # Minimum number of balloons to paint to make all same\n",
        "    return min(amber_count, brass_count)\n",
        "\n",
        "# Input the number of test cases\n",
        "T = int(input(\"Enter the total number of test cases: \"))\n",
        "\n",
        "# Iterate through each test case\n",
        "for i in range(T):\n",
        "    s = input(\"Enter balloon colors (a or b): \").strip()\n",
        "    print(min_paint_balloons(s))\n"
      ]
    }
  ]
}