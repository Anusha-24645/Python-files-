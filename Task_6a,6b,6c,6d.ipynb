{
  "nbformat": 4,
  "nbformat_minor": 0,
  "metadata": {
    "colab": {
      "provenance": [],
      "authorship_tag": "ABX9TyNlrpXTXfjNYA9kz1WbIxCa",
      "include_colab_link": true
    },
    "kernelspec": {
      "name": "python3",
      "display_name": "Python 3"
    },
    "language_info": {
      "name": "python"
    }
  },
  "cells": [
    {
      "cell_type": "markdown",
      "metadata": {
        "id": "view-in-github",
        "colab_type": "text"
      },
      "source": [
        "<a href=\"https://colab.research.google.com/github/Anusha-24645/Python-files-/blob/main/Task_6a%2C6b%2C6c%2C6d.ipynb\" target=\"_parent\"><img src=\"https://colab.research.google.com/assets/colab-badge.svg\" alt=\"Open In Colab\"/></a>"
      ]
    },
    {
      "cell_type": "code",
      "execution_count": 1,
      "metadata": {
        "colab": {
          "base_uri": "https://localhost:8080/"
        },
        "id": "Gjqnx2b2rv2C",
        "outputId": "ef482d3a-dd33-468c-e926-83a75ae4baa8"
      },
      "outputs": [
        {
          "output_type": "stream",
          "name": "stdout",
          "text": [
            "Error: File 'file1.txt' not found.\n",
            "Error: File 'file2.txt' not found.\n",
            "Error: File 'file3.txt' not found.\n"
          ]
        }
      ],
      "source": [
        "import os\n",
        "import csv\n",
        "\n",
        "# Function to copy files\n",
        "def copy_files(file_paths):\n",
        "    for file_path in file_paths:\n",
        "        if os.path.exists(file_path):\n",
        "            with open(file_path, 'r') as original_file:\n",
        "                original_content = original_file.read()\n",
        "            copy_file_path = file_path.split('.')[0] + '_copy.' + file_path.split('.')[1]\n",
        "            with open(copy_file_path, 'w') as copy_file:\n",
        "                copy_file.write(original_content)\n",
        "            print(f\"Contents copied from {file_path} to {copy_file_path} successfully.\")\n",
        "        else:\n",
        "            print(f\"Error: File '{file_path}' not found.\")\n",
        "\n",
        "# Example usage of copy_files\n",
        "file_list = ['file1.txt', 'file2.txt', 'file3.txt']  # You must have these files present\n",
        "copy_files(file_list)\n",
        "\n",
        "\n",
        "# Function to create a file and count letter occurrences\n",
        "def create_file_and_count_occurrences():\n",
        "    file_name = input(\"Enter the file name to create: \")\n",
        "    with open(file_name, 'w') as file:\n",
        "        print(\"Enter the contents of the file (press Enter twice to finish):\")\n",
        "        while True:\n",
        "            line = input()\n",
        "            if not line:\n",
        "                break\n",
        "            file.write(line + '\\n')\n",
        "\n",
        "    print(\"\\nContents of the file:\")\n",
        "    with open(file_name, 'r') as file:\n",
        "        print(file.read())\n",
        "\n",
        "    letter = input(\"\\nEnter the letter to count occurrences: \")\n",
        "    with open(file_name, 'r') as file:\n",
        "        content = file.read()\n",
        "        count = content.count(letter)\n",
        "    print(f\"\\nThe letter '{letter}' occurs {count} times in the file.\")\n",
        "\n",
        "# Function to create a file and count words\n",
        "def create_file_and_count_words():\n",
        "    file_name = input(\"Enter the file name to create: \")\n",
        "    with open(file_name, 'w') as file:\n",
        "        print(\"Enter the contents of the file (press Enter twice to finish):\")\n",
        "        while True:\n",
        "            line = input()\n",
        "            if not line:\n",
        "                break\n",
        "            file.write(line + '\\n')\n",
        "\n",
        "    print(\"\\nContents of the file:\")\n",
        "    with open(file_name, 'r') as file:\n",
        "        print(file.read())\n",
        "\n",
        "    with open(file_name, 'r') as file:\n",
        "        content = file.read()\n",
        "        word_count = len(content.split())\n",
        "    print(f\"\\nThe number of words in the file is: {word_count}\")\n",
        "\n",
        "# CSV reading section\n",
        "def read_csv_file():\n",
        "    csv_file = 'apple_quality.csv'\n",
        "    if os.path.exists(csv_file):\n",
        "        with open(csv_file, 'r') as file:\n",
        "            data = csv.reader(file)\n",
        "            for row in data:\n",
        "                print(row)\n",
        "    else:\n",
        "        print(f\"CSV file '{csv_file}' not found.\")\n",
        "\n",
        "# Uncomment to use these functions interactively:\n",
        "# create_file_and_count_occurrences()\n",
        "# create_file_and_count_words()\n",
        "# read_csv_file()\n"
      ]
    }
  ]
}