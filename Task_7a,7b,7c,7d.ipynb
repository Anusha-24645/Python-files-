{
  "nbformat": 4,
  "nbformat_minor": 0,
  "metadata": {
    "colab": {
      "provenance": [],
      "authorship_tag": "ABX9TyPHT3UvTfnYb5uLvLOfMIWw",
      "include_colab_link": true
    },
    "kernelspec": {
      "name": "python3",
      "display_name": "Python 3"
    },
    "language_info": {
      "name": "python"
    }
  },
  "cells": [
    {
      "cell_type": "markdown",
      "metadata": {
        "id": "view-in-github",
        "colab_type": "text"
      },
      "source": [
        "<a href=\"https://colab.research.google.com/github/Anusha-24645/Python-files-/blob/main/Task_7a%2C7b%2C7c%2C7d.ipynb\" target=\"_parent\"><img src=\"https://colab.research.google.com/assets/colab-badge.svg\" alt=\"Open In Colab\"/></a>"
      ]
    },
    {
      "cell_type": "code",
      "execution_count": 2,
      "metadata": {
        "colab": {
          "base_uri": "https://localhost:8080/"
        },
        "id": "Gjqnx2b2rv2C",
        "outputId": "6a47ccc5-83a0-404e-d1ae-871a6c00a3db"
      },
      "outputs": [
        {
          "output_type": "stream",
          "name": "stdout",
          "text": [
            "Enter Item Code: 201\n",
            "Enter Item Name: soap\n",
            "Enter Price: 50\n",
            "Enter Quantity: 2\n",
            "\n",
            "--- Purchase Summary ---\n",
            "Item Code: 201\n",
            "Item: soap\n",
            "Price: 50.0\n",
            "Quantity: 2\n",
            "Discount: 0\n",
            "Net Price: 100.0\n",
            "\n",
            "Enter the value of N: 1\n",
            "Cube product of the first 1 natural numbers is: 1\n",
            "\n",
            "--- Multipliers using Lambda ---\n",
            "Double the number of 15 = 30\n",
            "Triple the number of 15 = 45\n",
            "Quadruple the number of 15 = 60\n",
            "Quintuple the number of 15 = 75\n",
            "\n",
            "--- Ticket Categorization ---\n",
            "Adult Tickets: [202, 410, 620, 830, 1050]\n",
            "Child Tickets: [101, 305, 513, 723, 945]\n"
          ]
        }
      ],
      "source": [
        "# Function to find discount based on quantity\n",
        "def find_discount(qty):\n",
        "    if qty <= 10:\n",
        "        return 0\n",
        "    elif 11 <= qty <= 20:\n",
        "        return 15\n",
        "    else:\n",
        "        return 20\n",
        "\n",
        "# Function to input item details and compute net price\n",
        "def buy():\n",
        "    ICode = int(input(\"Enter Item Code: \"))\n",
        "    Item = input(\"Enter Item Name: \")\n",
        "    Price = float(input(\"Enter Price: \"))\n",
        "    Qty = int(input(\"Enter Quantity: \"))\n",
        "    Discount = find_discount(Qty)\n",
        "    Netprice = Price * Qty - Discount\n",
        "    return ICode, Item, Price, Qty, Discount, Netprice\n",
        "\n",
        "# Function to display item details\n",
        "def show_all(ICode, Item, Price, Qty, Discount, Netprice):\n",
        "    print(\"\\n--- Purchase Summary ---\")\n",
        "    print(\"Item Code:\", ICode)\n",
        "    print(\"Item:\", Item)\n",
        "    print(\"Price:\", Price)\n",
        "    print(\"Quantity:\", Qty)\n",
        "    print(\"Discount:\", Discount)\n",
        "    print(\"Net Price:\", Netprice)\n",
        "\n",
        "# Calling the buy and show_all functions\n",
        "ICode, Item, Price, Qty, Discount, Netprice = buy()\n",
        "show_all(ICode, Item, Price, Qty, Discount, Netprice)\n",
        "\n",
        "\n",
        "# Function to calculate the product of cubes of first N natural numbers\n",
        "def cube_product_of_natural_numbers(n):\n",
        "    product = 1\n",
        "    for i in range(1, n + 1):\n",
        "        product *= i ** 3\n",
        "    return product\n",
        "\n",
        "# Get input from user and print cube product\n",
        "n = int(input(\"\\nEnter the value of N: \"))\n",
        "result = cube_product_of_natural_numbers(n)\n",
        "print(f\"Cube product of the first {n} natural numbers is: {result}\")\n",
        "\n",
        "\n",
        "# Function using lambda to return a multiplier function\n",
        "def func_compute(n):\n",
        "    return lambda x: x * n\n",
        "\n",
        "# Using func_compute to multiply 15 by different numbers\n",
        "print(\"\\n--- Multipliers using Lambda ---\")\n",
        "result = func_compute(2)\n",
        "print(\"Double the number of 15 =\", result(15))\n",
        "\n",
        "result = func_compute(3)\n",
        "print(\"Triple the number of 15 =\", result(15))\n",
        "\n",
        "result = func_compute(4)\n",
        "print(\"Quadruple the number of 15 =\", result(15))\n",
        "\n",
        "result = func_compute(5)\n",
        "print(\"Quintuple the number of 15 =\", result(15))\n",
        "\n",
        "\n",
        "# Function to categorize ticket IDs into adult (even) and child (odd)\n",
        "def categorize_tickets(ticket_ids):\n",
        "    adult_tickets = list(filter(lambda x: x % 2 == 0, ticket_ids))\n",
        "    child_tickets = list(filter(lambda x: x % 2 != 0, ticket_ids))\n",
        "    return adult_tickets, child_tickets\n",
        "\n",
        "# Sample ticket ID list\n",
        "ticket_ids = [101, 202, 305, 410, 513, 620, 723, 830, 945, 1050]\n",
        "\n",
        "# Categorizing and printing tickets\n",
        "adult_tickets, child_tickets = categorize_tickets(ticket_ids)\n",
        "print(\"\\n--- Ticket Categorization ---\")\n",
        "print(\"Adult Tickets:\", adult_tickets)\n",
        "print(\"Child Tickets:\", child_tickets)\n",
        "\n"
      ]
    }
  ]
}