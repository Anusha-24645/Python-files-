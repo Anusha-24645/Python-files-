{
  "nbformat": 4,
  "nbformat_minor": 0,
  "metadata": {
    "colab": {
      "provenance": [],
      "authorship_tag": "ABX9TyPTlL1aQ9Ehdtpd+kYSrZDi",
      "include_colab_link": true
    },
    "kernelspec": {
      "name": "python3",
      "display_name": "Python 3"
    },
    "language_info": {
      "name": "python"
    }
  },
  "cells": [
    {
      "cell_type": "markdown",
      "metadata": {
        "id": "view-in-github",
        "colab_type": "text"
      },
      "source": [
        "<a href=\"https://colab.research.google.com/github/Anusha-24645/Python-files-/blob/main/Task_3a%2C3b%2C3c%2C3d.ipynb\" target=\"_parent\"><img src=\"https://colab.research.google.com/assets/colab-badge.svg\" alt=\"Open In Colab\"/></a>"
      ]
    },
    {
      "cell_type": "code",
      "execution_count": 2,
      "metadata": {
        "colab": {
          "base_uri": "https://localhost:8080/",
          "height": 106
        },
        "id": "g5616X07I4jG",
        "outputId": "5886e545-ddc9-4682-d029-487eab699d06"
      },
      "outputs": [
        {
          "output_type": "error",
          "ename": "IndentationError",
          "evalue": "unindent does not match any outer indentation level (<tokenize>, line 20)",
          "traceback": [
            "\u001b[0;36m  File \u001b[0;32m\"<tokenize>\"\u001b[0;36m, line \u001b[0;32m20\u001b[0m\n\u001b[0;31m    \"\\n\u001b[0m\n\u001b[0m    ^\u001b[0m\n\u001b[0;31mIndentationError\u001b[0m\u001b[0;31m:\u001b[0m unindent does not match any outer indentation level\n"
          ]
        }
      ],
      "source": [
        "import datetime\n",
        "\n",
        "# Input\n",
        "input_date = input(\"Enter the date in MM DD YYYY format: \")\n",
        "\n",
        "# Split and convert input to integers\n",
        "month, day, year = map(int, input_date.split())\n",
        "\n",
        "# Check if the year is within the specified constraints\n",
        "if 2000 < year < 3000:\n",
        "    # Convert to datetime object\n",
        "    x = datetime.datetime(year, month, day)\n",
        "\n",
        "    # Get and print the day name in uppercase\n",
        "    day_name = x.strftime(\"%A\").upper()\n",
        "    print(day_name)\n",
        "else:\n",
        "    print(\"Year is not within the specified constraints.\")\n",
        "\n",
        " \"\\n\n",
        " \"\\n\"\n",
        " from math import pow\n",
        "\n",
        "def compute_armstrong(x):\n",
        "    n = len(str(x))  # Number of digits\n",
        "    armstrong_sum = sum(pow(int(i), n) for i in str(x))  # Sum of each digit raised to the power n\n",
        "    return armstrong_sum == x\n",
        "\n",
        "# Input from the user\n",
        "number = int(input(\"Enter a number: \"))\n",
        "\n",
        "# Check and display result\n",
        "if compute_armstrong(number):\n",
        "    print(f\"{number} is an Armstrong number\")\n",
        "else:\n",
        "    print(f\"{number} is not an Armstrong number\")\n",
        "import math\n",
        "\n",
        "def edistance(x, y):\n",
        "    distance = math.sqrt((y[0] - x[0])**2 + (y[1] - x[1])**2)\n",
        "    return distance\n",
        "T3/\n",
        "├── __init__.py\n",
        "├── mod1.py\n",
        "├── mod2.py\n",
        "sample_task3.py\n"
      ]
    }
  ]
}