{
  "nbformat": 4,
  "nbformat_minor": 0,
  "metadata": {
    "colab": {
      "provenance": [],
      "authorship_tag": "ABX9TyMrxWn8h/vTChM2RQ22LQas",
      "include_colab_link": true
    },
    "kernelspec": {
      "name": "python3",
      "display_name": "Python 3"
    },
    "language_info": {
      "name": "python"
    }
  },
  "cells": [
    {
      "cell_type": "markdown",
      "metadata": {
        "id": "view-in-github",
        "colab_type": "text"
      },
      "source": [
        "<a href=\"https://colab.research.google.com/github/Anusha-24645/Python-files-/blob/main/Task_8a%2C8b%2C8c%2C8d.ipynb\" target=\"_parent\"><img src=\"https://colab.research.google.com/assets/colab-badge.svg\" alt=\"Open In Colab\"/></a>"
      ]
    },
    {
      "cell_type": "code",
      "execution_count": 3,
      "metadata": {
        "colab": {
          "base_uri": "https://localhost:8080/"
        },
        "id": "Gjqnx2b2rv2C",
        "outputId": "663b01a2-f077-45e8-b541-ab06b12087f8"
      },
      "outputs": [
        {
          "output_type": "stream",
          "name": "stdout",
          "text": [
            "Fibonacci Series:\n",
            "0 1 1 2 3 5 8 13 21 34 \n",
            "\n",
            "Squares of numbers from 0 to 4:\n",
            "0\n",
            "1\n",
            "4\n",
            "9\n",
            "16\n",
            "\n",
            "Performing arithmetic operation...\n",
            "Operation completed.\n",
            "Result of addition: 8\n",
            "Performing arithmetic operation...\n",
            "Operation completed.\n",
            "Result of division: Cannot divide by zero!\n"
          ]
        }
      ],
      "source": [
        "# Generator function to produce the first 10 Fibonacci numbers\n",
        "def fibonacci():\n",
        "    a, b = 0, 1\n",
        "    for _ in range(10):  # Generate 10 Fibonacci numbers\n",
        "        yield a\n",
        "        a, b = b, a + b\n",
        "\n",
        "# Create a generator object for Fibonacci series\n",
        "fibonacci_series = fibonacci()\n",
        "\n",
        "# Print the first 10 Fibonacci numbers\n",
        "print(\"Fibonacci Series:\")\n",
        "for number in fibonacci_series:\n",
        "    print(number, end=\" \")\n",
        "print(\"\\n\")  # Newline for separation\n",
        "\n",
        "# Generator function to produce squares of numbers from 0 to 4\n",
        "def squares():\n",
        "    for i in range(5):\n",
        "        yield i ** 2\n",
        "\n",
        "# Create a generator object for squares\n",
        "squares_generator = squares()\n",
        "\n",
        "# Print squares\n",
        "print(\"Squares of numbers from 0 to 4:\")\n",
        "for square in squares_generator:\n",
        "    print(square)\n",
        "print()  # Newline for separation\n",
        "\n",
        "# Decorator function for arithmetic operations\n",
        "def operation_decorator(func):\n",
        "    def wrapper(x, y):\n",
        "        print(\"Performing arithmetic operation...\")\n",
        "        result = func(x, y)\n",
        "        print(\"Operation completed.\")\n",
        "        return result\n",
        "    return wrapper\n",
        "\n",
        "# Apply decorator to addition\n",
        "@operation_decorator\n",
        "def add(x, y):\n",
        "    return x + y\n",
        "\n",
        "# Apply decorator to division\n",
        "@operation_decorator\n",
        "def divide(x, y):\n",
        "    if y == 0:\n",
        "        return \"Cannot divide by zero!\"\n",
        "    else:\n",
        "        return x / y\n",
        "\n",
        "# Perform addition\n",
        "result_add = add(5, 3)\n",
        "print(\"Result of addition:\", result_add)\n",
        "\n",
        "# Perform division\n",
        "result_divide = divide(15, 0)\n",
        "print(\"Result of division:\", result_divide)\n",
        "\n",
        "\n"
      ]
    }
  ]
}