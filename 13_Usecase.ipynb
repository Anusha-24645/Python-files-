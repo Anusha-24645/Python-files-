{
  "nbformat": 4,
  "nbformat_minor": 0,
  "metadata": {
    "colab": {
      "provenance": [],
      "authorship_tag": "ABX9TyOgOad6EgF9vO4WAHbEtZkX",
      "include_colab_link": true
    },
    "kernelspec": {
      "name": "python3",
      "display_name": "Python 3"
    },
    "language_info": {
      "name": "python"
    }
  },
  "cells": [
    {
      "cell_type": "markdown",
      "metadata": {
        "id": "view-in-github",
        "colab_type": "text"
      },
      "source": [
        "<a href=\"https://colab.research.google.com/github/Anusha-24645/Python-files-/blob/main/13_Usecase.ipynb\" target=\"_parent\"><img src=\"https://colab.research.google.com/assets/colab-badge.svg\" alt=\"Open In Colab\"/></a>"
      ]
    },
    {
      "cell_type": "code",
      "execution_count": 2,
      "metadata": {
        "colab": {
          "base_uri": "https://localhost:8080/"
        },
        "id": "F-Gg7DITX5xY",
        "outputId": "0b8009f8-34d4-4659-c4cb-f6c07ce8eaba"
      },
      "outputs": [
        {
          "output_type": "stream",
          "name": "stdout",
          "text": [
            "Enter the number of times you want to roll the dice: 5\n",
            "\n",
            "Results of dice rolls:\n",
            "Roll 1: 1\n",
            "Roll 2: 3\n",
            "Roll 3: 6\n",
            "Roll 4: 2\n",
            "Roll 5: 3\n"
          ]
        }
      ],
      "source": [
        "# Import the NumPy library\n",
        "import numpy as np\n",
        "\n",
        "# Ask the user for the number of dice rolls\n",
        "num_rolls = int(input(\"Enter the number of times you want to roll the dice: \"))\n",
        "\n",
        "# Simulate dice rolls (numbers from 1 to 6)\n",
        "dice_rolls = np.random.randint(1, 7, size=num_rolls)\n",
        "\n",
        "# Display the results\n",
        "print(\"\\nResults of dice rolls:\")\n",
        "for i, roll in enumerate(dice_rolls, start=1):\n",
        "    print(f\"Roll {i}: {roll}\")\n"
      ]
    }
  ]
}