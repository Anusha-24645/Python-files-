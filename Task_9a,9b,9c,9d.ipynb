{
  "nbformat": 4,
  "nbformat_minor": 0,
  "metadata": {
    "colab": {
      "provenance": [],
      "authorship_tag": "ABX9TyMtoLnwUg33c/dGx8WDnsaZ",
      "include_colab_link": true
    },
    "kernelspec": {
      "name": "python3",
      "display_name": "Python 3"
    },
    "language_info": {
      "name": "python"
    }
  },
  "cells": [
    {
      "cell_type": "markdown",
      "metadata": {
        "id": "view-in-github",
        "colab_type": "text"
      },
      "source": [
        "<a href=\"https://colab.research.google.com/github/Anusha-24645/Python-files-/blob/main/Task_9a%2C9b%2C9c%2C9d.ipynb\" target=\"_parent\"><img src=\"https://colab.research.google.com/assets/colab-badge.svg\" alt=\"Open In Colab\"/></a>"
      ]
    },
    {
      "cell_type": "code",
      "execution_count": 13,
      "metadata": {
        "colab": {
          "base_uri": "https://localhost:8080/",
          "height": 106
        },
        "id": "g5616X07I4jG",
        "outputId": "a5074b40-c5c7-4c73-fed5-12c44fb524ac"
      },
      "outputs": [
        {
          "output_type": "error",
          "ename": "IndentationError",
          "evalue": "expected an indented block after 'while' statement on line 2 (ipython-input-1529189905.py, line 3)",
          "traceback": [
            "\u001b[0;36m  File \u001b[0;32m\"/tmp/ipython-input-1529189905.py\"\u001b[0;36m, line \u001b[0;32m3\u001b[0m\n\u001b[0;31m    try:\u001b[0m\n\u001b[0m    ^\u001b[0m\n\u001b[0;31mIndentationError\u001b[0m\u001b[0;31m:\u001b[0m expected an indented block after 'while' statement on line 2\n"
          ]
        }
      ],
      "source": [
        "def get_age():\n",
        " while True:\n",
        " try:\n",
        " age = int(input(\"Please enter your age: \"))\n",
        " if age < 0:\n",
        " raise ValueError(\"Age cannot be negative.\")\n",
        " return age\n",
        " except ValueError as ve:\n",
        " print(\"Invalid input:\", ve)\n",
        "try:\n",
        " age = get_age()\n",
        " print(\"Your age is:\", age)\n",
        "except ValueError as ve:\n",
        " print(\"An error occurred:\", ve)\n",
        "\n",
        " def view_seat_details(seat_list, index):\n",
        " try:\n",
        " seat = seat_list[index]\n",
        " print(\"Seat Details:\")\n",
        " print(\"Seat Number:\", seat.get(\"number\"))\n",
        " print(\"Section:\", seat.get(\"section\"))\n",
        " print(\"Availability:\", \"Booked\" if seat.get(\"is_booked\") else \"Available\")\n",
        " except IndexError:\n",
        " print(\"Invalid seat index. Please select a valid seat.\")\n",
        "# Sample list of seats\n",
        "seats = [\n",
        " {\"number\": \"A1\", \"section\": \"VIP\", \"is_booked\": False},\n",
        " {\"number\": \"A2\", \"section\": \"VIP\", \"is_booked\": True},\n",
        " {\"number\": \"B1\", \"section\": \"General\", \"is_booked\": False},\n",
        " {\"number\": \"B2\", \"section\": \"General\", \"is_booked\": False}\n",
        "]\n",
        "# Test the function\n",
        "try:\n",
        " seat_index = int(input(\"Enter the index of the seat you want to view: \"))\n",
        " view_seat_details(seats, seat_index)\n",
        "except ValueError:\n",
        " print(\"Invalid input. Please enter a valid seat index (integer).\")\n",
        "\n",
        " def open_file(filename):\n",
        " try:\n",
        " # Attempt to open the specified file in read mode ('r').\n",
        " file = open(filename, 'r')\n",
        " # Read the contents of the file and store them in the 'contents' variable.\n",
        " contents = file.read()\n",
        " # Print a message to indicate that the file contents will be displayed.\n",
        " print(\"File contents:\")\n",
        " # Print the contents of the file.\n",
        " print(contents)\n",
        " # Close the file to release system resources.\n",
        " file.close()\n",
        " except FileNotFoundError:\n",
        " # Handle the exception if the specified file is not found.\n",
        " print(\"Error: File not found.\")\n",
        "# Prompt the user to input a file name and store it in the 'file_name' variable.\n",
        "file_name = input(\"Input a file name: \")\n",
        "# Call the open_file function with the provided file name.\n",
        "open_file(file_name)\n",
        "\n",
        "\n",
        "try:\n",
        " # Attempt to get the initial investment amount from the user\n",
        " initial_investment = float(input(\"Enter the initial investment amount: \"))\n",
        " # Attempt to get the final investment amount from the user\n",
        " final_investment = float(input(\"Enter the final investment amount: \"))\n",
        " # Calculate the return on investment (ROI)\n",
        " roi = (final_investment - initial_investment) / initial_investment * 100\n",
        " print(\"Return on Investment (ROI): {:.2f}\".format(roi))\n",
        "except ValueError:\n",
        " # Handle the ValueError exception\n",
        " print(\"Error: Please enter a valid numeric value for the investment amount.\")\n",
        "except ZeroDivisionError:\n",
        " # Handle the ZeroDivisionError exception\n",
        " print(\"Error: Initial investment amount cannot be zero.\")\n",
        "\n",
        "\n",
        "\n"
      ]
    }
  ]
}