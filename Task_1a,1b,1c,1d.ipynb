{
  "nbformat": 4,
  "nbformat_minor": 0,
  "metadata": {
    "colab": {
      "provenance": [],
      "authorship_tag": "ABX9TyMK92XgRli9cEqGFc+STdbK",
      "include_colab_link": true
    },
    "kernelspec": {
      "name": "python3",
      "display_name": "Python 3"
    },
    "language_info": {
      "name": "python"
    }
  },
  "cells": [
    {
      "cell_type": "markdown",
      "metadata": {
        "id": "view-in-github",
        "colab_type": "text"
      },
      "source": [
        "<a href=\"https://colab.research.google.com/github/Anusha-24645/Python-files-/blob/main/Task_1a%2C1b%2C1c%2C1d.ipynb\" target=\"_parent\"><img src=\"https://colab.research.google.com/assets/colab-badge.svg\" alt=\"Open In Colab\"/></a>"
      ]
    },
    {
      "cell_type": "code",
      "execution_count": 18,
      "metadata": {
        "colab": {
          "base_uri": "https://localhost:8080/"
        },
        "id": "g5616X07I4jG",
        "outputId": "29e2eb1e-9e3e-41c4-9ba0-0aa3b421bb21"
      },
      "outputs": [
        {
          "output_type": "stream",
          "name": "stdout",
          "text": [
            "Hello, World!\n",
            "The sum of 10 and 5 is: 15\n"
          ]
        }
      ],
      "source": [
        "name = \"World\"\n",
        "a = 10\n",
        "b = 5\n",
        "\n",
        "sum_result = a + b\n",
        "\n",
        "# 3. Print the results\n",
        "print(f\"Hello, {name}!\")\n",
        "print(f\"The sum of {a} and {b} is: {sum_result}\")\n",
        "\n",
        "\n",
        "\n",
        "\n",
        "\n",
        "\n",
        "\n",
        "\n",
        "\n",
        "\n",
        "\n",
        "\n",
        "\n"
      ]
    }
  ]
}